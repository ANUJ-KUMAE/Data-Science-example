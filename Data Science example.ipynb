{
 "cells": [
  {
   "cell_type": "code",
   "execution_count": 1,
   "id": "5fb5ea58",
   "metadata": {},
   "outputs": [],
   "source": [
    "import pandas as pd\n",
    "import numpy as np"
   ]
  },
  {
   "cell_type": "code",
   "execution_count": 2,
   "id": "e33b10e8",
   "metadata": {},
   "outputs": [
    {
     "name": "stderr",
     "output_type": "stream",
     "text": [
      "C:\\Users\\Anuj\\anaconda3\\lib\\site-packages\\IPython\\core\\interactiveshell.py:3165: DtypeWarning: Columns (16) have mixed types.Specify dtype option on import or set low_memory=False.\n",
      "  has_raised = await self.run_ast_nodes(code_ast.body, cell_name,\n"
     ]
    }
   ],
   "source": [
    "df = pd.read_csv(\"D:\\Kaiburr/complaints.csv\")"
   ]
  },
  {
   "cell_type": "code",
   "execution_count": 3,
   "id": "56d9a7dd",
   "metadata": {},
   "outputs": [
    {
     "data": {
      "text/html": [
       "<div>\n",
       "<style scoped>\n",
       "    .dataframe tbody tr th:only-of-type {\n",
       "        vertical-align: middle;\n",
       "    }\n",
       "\n",
       "    .dataframe tbody tr th {\n",
       "        vertical-align: top;\n",
       "    }\n",
       "\n",
       "    .dataframe thead th {\n",
       "        text-align: right;\n",
       "    }\n",
       "</style>\n",
       "<table border=\"1\" class=\"dataframe\">\n",
       "  <thead>\n",
       "    <tr style=\"text-align: right;\">\n",
       "      <th></th>\n",
       "      <th>Date received</th>\n",
       "      <th>Product</th>\n",
       "      <th>Sub-product</th>\n",
       "      <th>Issue</th>\n",
       "      <th>Sub-issue</th>\n",
       "      <th>Consumer complaint narrative</th>\n",
       "      <th>Company public response</th>\n",
       "      <th>Company</th>\n",
       "      <th>State</th>\n",
       "      <th>ZIP code</th>\n",
       "      <th>Tags</th>\n",
       "      <th>Consumer consent provided?</th>\n",
       "      <th>Submitted via</th>\n",
       "      <th>Date sent to company</th>\n",
       "      <th>Company response to consumer</th>\n",
       "      <th>Timely response?</th>\n",
       "      <th>Consumer disputed?</th>\n",
       "      <th>Complaint ID</th>\n",
       "    </tr>\n",
       "  </thead>\n",
       "  <tbody>\n",
       "    <tr>\n",
       "      <th>0</th>\n",
       "      <td>2023-07-22</td>\n",
       "      <td>Credit reporting, credit repair services, or o...</td>\n",
       "      <td>Credit reporting</td>\n",
       "      <td>Incorrect information on your report</td>\n",
       "      <td>Information belongs to someone else</td>\n",
       "      <td>NaN</td>\n",
       "      <td>NaN</td>\n",
       "      <td>Nelnet, Inc.</td>\n",
       "      <td>IL</td>\n",
       "      <td>61103</td>\n",
       "      <td>NaN</td>\n",
       "      <td>NaN</td>\n",
       "      <td>Web</td>\n",
       "      <td>2023-08-23</td>\n",
       "      <td>Closed with explanation</td>\n",
       "      <td>Yes</td>\n",
       "      <td>NaN</td>\n",
       "      <td>7284490</td>\n",
       "    </tr>\n",
       "    <tr>\n",
       "      <th>1</th>\n",
       "      <td>2023-08-25</td>\n",
       "      <td>Credit reporting or other personal consumer re...</td>\n",
       "      <td>Credit reporting</td>\n",
       "      <td>Incorrect information on your report</td>\n",
       "      <td>Information belongs to someone else</td>\n",
       "      <td>NaN</td>\n",
       "      <td>NaN</td>\n",
       "      <td>EQUIFAX, INC.</td>\n",
       "      <td>FL</td>\n",
       "      <td>33444</td>\n",
       "      <td>NaN</td>\n",
       "      <td>NaN</td>\n",
       "      <td>Web</td>\n",
       "      <td>2023-08-25</td>\n",
       "      <td>Closed with non-monetary relief</td>\n",
       "      <td>Yes</td>\n",
       "      <td>NaN</td>\n",
       "      <td>7588176</td>\n",
       "    </tr>\n",
       "    <tr>\n",
       "      <th>2</th>\n",
       "      <td>2023-08-24</td>\n",
       "      <td>Credit reporting, credit repair services, or o...</td>\n",
       "      <td>Credit reporting</td>\n",
       "      <td>Problem with a credit reporting company's inve...</td>\n",
       "      <td>Was not notified of investigation status or re...</td>\n",
       "      <td>NaN</td>\n",
       "      <td>NaN</td>\n",
       "      <td>Experian Information Solutions Inc.</td>\n",
       "      <td>NJ</td>\n",
       "      <td>07024</td>\n",
       "      <td>NaN</td>\n",
       "      <td>Other</td>\n",
       "      <td>Web</td>\n",
       "      <td>2023-08-24</td>\n",
       "      <td>In progress</td>\n",
       "      <td>Yes</td>\n",
       "      <td>NaN</td>\n",
       "      <td>7452639</td>\n",
       "    </tr>\n",
       "    <tr>\n",
       "      <th>3</th>\n",
       "      <td>2023-08-25</td>\n",
       "      <td>Credit reporting or other personal consumer re...</td>\n",
       "      <td>Credit reporting</td>\n",
       "      <td>Improper use of your report</td>\n",
       "      <td>Reporting company used your report improperly</td>\n",
       "      <td>NaN</td>\n",
       "      <td>NaN</td>\n",
       "      <td>SANTANDER HOLDINGS USA, INC.</td>\n",
       "      <td>FL</td>\n",
       "      <td>33972</td>\n",
       "      <td>NaN</td>\n",
       "      <td>NaN</td>\n",
       "      <td>Web</td>\n",
       "      <td>2023-08-25</td>\n",
       "      <td>Closed with explanation</td>\n",
       "      <td>Yes</td>\n",
       "      <td>NaN</td>\n",
       "      <td>7512160</td>\n",
       "    </tr>\n",
       "    <tr>\n",
       "      <th>4</th>\n",
       "      <td>2023-08-23</td>\n",
       "      <td>Credit reporting, credit repair services, or o...</td>\n",
       "      <td>Other personal consumer report</td>\n",
       "      <td>Incorrect information on your report</td>\n",
       "      <td>Information that should be on the report is mi...</td>\n",
       "      <td>NaN</td>\n",
       "      <td>NaN</td>\n",
       "      <td>LEXISNEXIS</td>\n",
       "      <td>FL</td>\n",
       "      <td>32258</td>\n",
       "      <td>NaN</td>\n",
       "      <td>Other</td>\n",
       "      <td>Web</td>\n",
       "      <td>2023-08-23</td>\n",
       "      <td>In progress</td>\n",
       "      <td>Yes</td>\n",
       "      <td>NaN</td>\n",
       "      <td>7442688</td>\n",
       "    </tr>\n",
       "  </tbody>\n",
       "</table>\n",
       "</div>"
      ],
      "text/plain": [
       "  Date received                                            Product  \\\n",
       "0    2023-07-22  Credit reporting, credit repair services, or o...   \n",
       "1    2023-08-25  Credit reporting or other personal consumer re...   \n",
       "2    2023-08-24  Credit reporting, credit repair services, or o...   \n",
       "3    2023-08-25  Credit reporting or other personal consumer re...   \n",
       "4    2023-08-23  Credit reporting, credit repair services, or o...   \n",
       "\n",
       "                      Sub-product  \\\n",
       "0                Credit reporting   \n",
       "1                Credit reporting   \n",
       "2                Credit reporting   \n",
       "3                Credit reporting   \n",
       "4  Other personal consumer report   \n",
       "\n",
       "                                               Issue  \\\n",
       "0               Incorrect information on your report   \n",
       "1               Incorrect information on your report   \n",
       "2  Problem with a credit reporting company's inve...   \n",
       "3                        Improper use of your report   \n",
       "4               Incorrect information on your report   \n",
       "\n",
       "                                           Sub-issue  \\\n",
       "0                Information belongs to someone else   \n",
       "1                Information belongs to someone else   \n",
       "2  Was not notified of investigation status or re...   \n",
       "3      Reporting company used your report improperly   \n",
       "4  Information that should be on the report is mi...   \n",
       "\n",
       "  Consumer complaint narrative Company public response  \\\n",
       "0                          NaN                     NaN   \n",
       "1                          NaN                     NaN   \n",
       "2                          NaN                     NaN   \n",
       "3                          NaN                     NaN   \n",
       "4                          NaN                     NaN   \n",
       "\n",
       "                               Company State ZIP code Tags  \\\n",
       "0                         Nelnet, Inc.    IL    61103  NaN   \n",
       "1                        EQUIFAX, INC.    FL    33444  NaN   \n",
       "2  Experian Information Solutions Inc.    NJ    07024  NaN   \n",
       "3         SANTANDER HOLDINGS USA, INC.    FL    33972  NaN   \n",
       "4                           LEXISNEXIS    FL    32258  NaN   \n",
       "\n",
       "  Consumer consent provided? Submitted via Date sent to company  \\\n",
       "0                        NaN           Web           2023-08-23   \n",
       "1                        NaN           Web           2023-08-25   \n",
       "2                      Other           Web           2023-08-24   \n",
       "3                        NaN           Web           2023-08-25   \n",
       "4                      Other           Web           2023-08-23   \n",
       "\n",
       "      Company response to consumer Timely response? Consumer disputed?  \\\n",
       "0          Closed with explanation              Yes                NaN   \n",
       "1  Closed with non-monetary relief              Yes                NaN   \n",
       "2                      In progress              Yes                NaN   \n",
       "3          Closed with explanation              Yes                NaN   \n",
       "4                      In progress              Yes                NaN   \n",
       "\n",
       "   Complaint ID  \n",
       "0       7284490  \n",
       "1       7588176  \n",
       "2       7452639  \n",
       "3       7512160  \n",
       "4       7442688  "
      ]
     },
     "execution_count": 3,
     "metadata": {},
     "output_type": "execute_result"
    }
   ],
   "source": [
    "df.head()"
   ]
  },
  {
   "cell_type": "code",
   "execution_count": 4,
   "id": "bf88ef96",
   "metadata": {},
   "outputs": [
    {
     "name": "stdout",
     "output_type": "stream",
     "text": [
      "<class 'pandas.core.frame.DataFrame'>\n",
      "RangeIndex: 4101381 entries, 0 to 4101380\n",
      "Data columns (total 18 columns):\n",
      " #   Column                        Dtype \n",
      "---  ------                        ----- \n",
      " 0   Date received                 object\n",
      " 1   Product                       object\n",
      " 2   Sub-product                   object\n",
      " 3   Issue                         object\n",
      " 4   Sub-issue                     object\n",
      " 5   Consumer complaint narrative  object\n",
      " 6   Company public response       object\n",
      " 7   Company                       object\n",
      " 8   State                         object\n",
      " 9   ZIP code                      object\n",
      " 10  Tags                          object\n",
      " 11  Consumer consent provided?    object\n",
      " 12  Submitted via                 object\n",
      " 13  Date sent to company          object\n",
      " 14  Company response to consumer  object\n",
      " 15  Timely response?              object\n",
      " 16  Consumer disputed?            object\n",
      " 17  Complaint ID                  int64 \n",
      "dtypes: int64(1), object(17)\n",
      "memory usage: 563.2+ MB\n",
      "None\n"
     ]
    }
   ],
   "source": [
    "print(df.info())"
   ]
  },
  {
   "cell_type": "code",
   "execution_count": 5,
   "id": "af64c96d",
   "metadata": {},
   "outputs": [
    {
     "name": "stdout",
     "output_type": "stream",
     "text": [
      "       Complaint ID\n",
      "count  4.101381e+06\n",
      "mean   4.350486e+06\n",
      "std    2.040780e+06\n",
      "min    1.000000e+00\n",
      "25%    2.883892e+06\n",
      "50%    4.294108e+06\n",
      "75%    6.186028e+06\n",
      "max    7.593229e+06\n"
     ]
    }
   ],
   "source": [
    "print(df.describe())"
   ]
  },
  {
   "cell_type": "code",
   "execution_count": 6,
   "id": "3f7cbcd7",
   "metadata": {},
   "outputs": [
    {
     "name": "stdout",
     "output_type": "stream",
     "text": [
      "Date received                         0\n",
      "Product                               0\n",
      "Sub-product                      235291\n",
      "Issue                                 0\n",
      "Sub-issue                        716954\n",
      "Consumer complaint narrative    2615783\n",
      "Company public response         2200311\n",
      "Company                               0\n",
      "State                             43240\n",
      "ZIP code                          30213\n",
      "Tags                            3673906\n",
      "Consumer consent provided?       903652\n",
      "Submitted via                         0\n",
      "Date sent to company                  0\n",
      "Company response to consumer          5\n",
      "Timely response?                      0\n",
      "Consumer disputed?              3333023\n",
      "Complaint ID                          0\n",
      "dtype: int64\n"
     ]
    }
   ],
   "source": [
    "print(df.isnull().sum())"
   ]
  },
  {
   "cell_type": "code",
   "execution_count": 7,
   "id": "fd2d7737",
   "metadata": {},
   "outputs": [],
   "source": [
    "df = df.drop_duplicates()"
   ]
  },
  {
   "cell_type": "code",
   "execution_count": 8,
   "id": "d462b09b",
   "metadata": {},
   "outputs": [],
   "source": [
    "df = df[[\"Product\", \"Sub-product\", \"Issue\", \"Sub-issue\", \"Consumer complaint narrative\"]]"
   ]
  },
  {
   "cell_type": "code",
   "execution_count": 9,
   "id": "e46d774d",
   "metadata": {},
   "outputs": [],
   "source": [
    "df = df.dropna(how=\"any\")"
   ]
  },
  {
   "cell_type": "code",
   "execution_count": 10,
   "id": "d9c59dea",
   "metadata": {},
   "outputs": [
    {
     "data": {
      "text/html": [
       "<div>\n",
       "<style scoped>\n",
       "    .dataframe tbody tr th:only-of-type {\n",
       "        vertical-align: middle;\n",
       "    }\n",
       "\n",
       "    .dataframe tbody tr th {\n",
       "        vertical-align: top;\n",
       "    }\n",
       "\n",
       "    .dataframe thead th {\n",
       "        text-align: right;\n",
       "    }\n",
       "</style>\n",
       "<table border=\"1\" class=\"dataframe\">\n",
       "  <thead>\n",
       "    <tr style=\"text-align: right;\">\n",
       "      <th></th>\n",
       "      <th>Product</th>\n",
       "      <th>Sub-product</th>\n",
       "      <th>Issue</th>\n",
       "      <th>Sub-issue</th>\n",
       "      <th>Consumer complaint narrative</th>\n",
       "    </tr>\n",
       "  </thead>\n",
       "  <tbody>\n",
       "    <tr>\n",
       "      <th>10</th>\n",
       "      <td>Checking or savings account</td>\n",
       "      <td>Checking account</td>\n",
       "      <td>Problem caused by your funds being low</td>\n",
       "      <td>Overdrafts and overdraft fees</td>\n",
       "      <td>Citibank allowed debit card transactions to ov...</td>\n",
       "    </tr>\n",
       "    <tr>\n",
       "      <th>12</th>\n",
       "      <td>Credit reporting, credit repair services, or o...</td>\n",
       "      <td>Credit reporting</td>\n",
       "      <td>Problem with a credit reporting company's inve...</td>\n",
       "      <td>Their investigation did not fix an error on yo...</td>\n",
       "      <td>I submitted a letter to the XXXX Credit Bureau...</td>\n",
       "    </tr>\n",
       "    <tr>\n",
       "      <th>16</th>\n",
       "      <td>Credit reporting, credit repair services, or o...</td>\n",
       "      <td>Credit reporting</td>\n",
       "      <td>Problem with a credit reporting company's inve...</td>\n",
       "      <td>Was not notified of investigation status or re...</td>\n",
       "      <td>Hi, I can't believe you guys are taking advant...</td>\n",
       "    </tr>\n",
       "    <tr>\n",
       "      <th>19</th>\n",
       "      <td>Credit reporting, credit repair services, or o...</td>\n",
       "      <td>Credit reporting</td>\n",
       "      <td>Problem with a credit reporting company's inve...</td>\n",
       "      <td>Their investigation did not fix an error on yo...</td>\n",
       "      <td>When I reviewed my credit report, I discovered...</td>\n",
       "    </tr>\n",
       "    <tr>\n",
       "      <th>31</th>\n",
       "      <td>Credit reporting, credit repair services, or o...</td>\n",
       "      <td>Other personal consumer report</td>\n",
       "      <td>Incorrect information on your report</td>\n",
       "      <td>Information is incorrect</td>\n",
       "      <td>On XX/XX/, 2023, XXXX XXXX admitted liability ...</td>\n",
       "    </tr>\n",
       "  </tbody>\n",
       "</table>\n",
       "</div>"
      ],
      "text/plain": [
       "                                              Product  \\\n",
       "10                        Checking or savings account   \n",
       "12  Credit reporting, credit repair services, or o...   \n",
       "16  Credit reporting, credit repair services, or o...   \n",
       "19  Credit reporting, credit repair services, or o...   \n",
       "31  Credit reporting, credit repair services, or o...   \n",
       "\n",
       "                       Sub-product  \\\n",
       "10                Checking account   \n",
       "12                Credit reporting   \n",
       "16                Credit reporting   \n",
       "19                Credit reporting   \n",
       "31  Other personal consumer report   \n",
       "\n",
       "                                                Issue  \\\n",
       "10             Problem caused by your funds being low   \n",
       "12  Problem with a credit reporting company's inve...   \n",
       "16  Problem with a credit reporting company's inve...   \n",
       "19  Problem with a credit reporting company's inve...   \n",
       "31               Incorrect information on your report   \n",
       "\n",
       "                                            Sub-issue  \\\n",
       "10                      Overdrafts and overdraft fees   \n",
       "12  Their investigation did not fix an error on yo...   \n",
       "16  Was not notified of investigation status or re...   \n",
       "19  Their investigation did not fix an error on yo...   \n",
       "31                           Information is incorrect   \n",
       "\n",
       "                         Consumer complaint narrative  \n",
       "10  Citibank allowed debit card transactions to ov...  \n",
       "12  I submitted a letter to the XXXX Credit Bureau...  \n",
       "16  Hi, I can't believe you guys are taking advant...  \n",
       "19  When I reviewed my credit report, I discovered...  \n",
       "31  On XX/XX/, 2023, XXXX XXXX admitted liability ...  "
      ]
     },
     "execution_count": 10,
     "metadata": {},
     "output_type": "execute_result"
    }
   ],
   "source": [
    "df.head()"
   ]
  },
  {
   "cell_type": "code",
   "execution_count": 11,
   "id": "4bb10e04",
   "metadata": {},
   "outputs": [],
   "source": [
    "import matplotlib.pyplot as plt\n",
    "import seaborn as sns"
   ]
  },
  {
   "cell_type": "code",
   "execution_count": 12,
   "id": "c0fe6b8c",
   "metadata": {},
   "outputs": [
    {
     "data": {
      "image/png": "[encoded data removed]",
      "text/plain": [
       "<Figure size 720x432 with 1 Axes>"
      ]
     },
     "metadata": {
      "needs_background": "light"
     },
     "output_type": "display_data"
    }
   ],
   "source": [
    "plt.figure(figsize=(10, 6))\n",
    "plt.hist(df['Product'], bins=30, edgecolor='k')\n",
    "plt.xlabel('Product')\n",
    "plt.ylabel('Frequency')\n",
    "plt.title('Complaints Over Time')\n",
    "plt.show()"
   ]
  },
  {
   "cell_type": "code",
   "execution_count": 13,
   "id": "a8bcc4bd",
   "metadata": {},
   "outputs": [
    {
     "data": {
      "image/png": "[encoded data removed]",
      "text/plain": [
       "<Figure size 720x432 with 1 Axes>"
      ]
     },
     "metadata": {
      "needs_background": "light"
     },
     "output_type": "display_data"
    }
   ],
   "source": [
    "plt.figure(figsize=(10, 6))\n",
    "sns.countplot(x='Product', data=df)\n",
    "plt.xlabel('Product')\n",
    "plt.ylabel('Count')\n",
    "plt.title('Complaints by Product Type')\n",
    "plt.xticks(rotation=90)\n",
    "plt.show()"
   ]
  },
  {
   "cell_type": "code",
   "execution_count": 14,
   "id": "be7c9d32",
   "metadata": {},
   "outputs": [
    {
     "data": {
      "text/plain": [
       "<AxesSubplot:ylabel='Sub-issue'>"
      ]
     },
     "execution_count": 14,
     "metadata": {},
     "output_type": "execute_result"
    },
    {
     "data": {
      "image/png": "[encoded data removed]",
      "text/plain": [
       "<Figure size 432x288 with 1 Axes>"
      ]
     },
     "metadata": {},
     "output_type": "display_data"
    }
   ],
   "source": [
    "df[\"Sub-issue\"].value_counts().head(10).plot(kind=\"pie\", autopct=\"%.2f%%\")"
   ]
  },
  {
   "cell_type": "code",
   "execution_count": 15,
   "id": "733299f0",
   "metadata": {},
   "outputs": [],
   "source": [
    "df['Complaint length'] = df['Consumer complaint narrative'].str.len()"
   ]
  },
  {
   "cell_type": "code",
   "execution_count": 16,
   "id": "d22c38ac",
   "metadata": {},
   "outputs": [],
   "source": [
    "import re\n",
    "import string\n",
    "from nltk.corpus import stopwords\n",
    "from nltk.tokenize import word_tokenize\n",
    "from nltk.stem import PorterStemmer"
   ]
  },
  {
   "cell_type": "code",
   "execution_count": 17,
   "id": "8eebd733",
   "metadata": {},
   "outputs": [
    {
     "name": "stderr",
     "output_type": "stream",
     "text": [
      "[nltk_data] Downloading package punkt to\n",
      "[nltk_data]     C:\\Users\\Anuj\\AppData\\Roaming\\nltk_data...\n",
      "[nltk_data]   Package punkt is already up-to-date!\n"
     ]
    },
    {
     "data": {
      "text/plain": [
       "True"
      ]
     },
     "execution_count": 17,
     "metadata": {},
     "output_type": "execute_result"
    }
   ],
   "source": [
    "import nltk\n",
    "nltk.download('punkt')"
   ]
  },
  {
   "cell_type": "code",
   "execution_count": 18,
   "id": "c449ebb3",
   "metadata": {},
   "outputs": [],
   "source": [
    "stop_words_list = stopwords.words(\"english\")"
   ]
  },
  {
   "cell_type": "code",
   "execution_count": 19,
   "id": "6730dedb",
   "metadata": {},
   "outputs": [],
   "source": [
    "def preprocess_text(text):\n",
    "    text = text.lower()\n",
    "    text = re.sub(r\"\\n\", \" \", text)\n",
    "    text = re.sub(r\"\\d\", \" \", text)\n",
    "    text = re.sub(r\"<.*?>+\", \"\", text)\n",
    "    text = re.sub(\"\\[.*?\\]\", \"\", text)\n",
    "    text = re.sub(\"https?://S+|www.\\.\\S+\", \"\", text)\n",
    "    text = text.translate(str.maketrans(\"\", \"\", string.punctuation))\n",
    "    words = text.split()\n",
    "    words = [word for word in words if not word in stop_words_list]\n",
    "    words = [re.sub(r\"(.)\\1{1,}\", r\"\\1\\1\", word) for word in words]\n",
    "    words = [word.strip() for word in words if len(word.strip()) > 1]\n",
    "    text = \" \".join(words)\n",
    "    return text"
   ]
  },
  {
   "cell_type": "code",
   "execution_count": 20,
   "id": "77b7e604",
   "metadata": {},
   "outputs": [],
   "source": [
    "df[\"Consumer complaint narrative\"] = df[\"Consumer complaint narrative\"].apply(preprocess_text)"
   ]
  },
  {
   "cell_type": "code",
   "execution_count": 21,
   "id": "174b6c95",
   "metadata": {},
   "outputs": [],
   "source": [
    "from sklearn.model_selection import train_test_split\n",
    "X = df[\"Consumer complaint narrative\"]\n",
    "y = df[\"Product\"]  "
   ]
  },
  {
   "cell_type": "code",
   "execution_count": 22,
   "id": "5b5aadad",
   "metadata": {},
   "outputs": [],
   "source": [
    "from sklearn.feature_extraction.text import CountVectorizer\n",
    "\n",
    "cv = CountVectorizer()\n",
    "X_Data = cv.fit_transform(X)"
   ]
  },
  {
   "cell_type": "code",
   "execution_count": 23,
   "id": "cd4a45b4",
   "metadata": {},
   "outputs": [],
   "source": [
    "X_train, X_test, y_train, y_test = train_test_split(X_Data, y, test_size=0.2, random_state=42)"
   ]
  },
  {
   "cell_type": "code",
   "execution_count": 24,
   "id": "af3ab3ab",
   "metadata": {},
   "outputs": [
    {
     "data": {
      "text/plain": [
       "SGDClassifier()"
      ]
     },
     "execution_count": 24,
     "metadata": {},
     "output_type": "execute_result"
    }
   ],
   "source": [
    "from sklearn.linear_model import SGDClassifier\n",
    "\n",
    "s_dc = SGDClassifier()\n",
    "s_dc.fit(X_train, y_train)"
   ]
  },
  {
   "cell_type": "code",
   "execution_count": 25,
   "id": "634aec4f",
   "metadata": {},
   "outputs": [
    {
     "data": {
      "text/plain": [
       "0.8805091148998929"
      ]
     },
     "execution_count": 25,
     "metadata": {},
     "output_type": "execute_result"
    }
   ],
   "source": [
    "s_dc.score(X_train, y_train)"
   ]
  },
  {
   "cell_type": "markdown",
   "id": "f6dfb6bf",
   "metadata": {},
   "source": [
    "#  Selection of Multi Classification model"
   ]
  },
  {
   "cell_type": "code",
   "execution_count": 27,
   "id": "699c84e4",
   "metadata": {},
   "outputs": [],
   "source": [
    "df2 = df.sample(10000, random_state=1).copy()"
   ]
  },
  {
   "cell_type": "code",
   "execution_count": 28,
   "id": "361b868f",
   "metadata": {},
   "outputs": [],
   "source": [
    "df2['category_id'] = df2['Product'].factorize()[0]\n",
    "category_id_df = df2[['Product', 'category_id']].drop_duplicates()"
   ]
  },
  {
   "cell_type": "code",
   "execution_count": 29,
   "id": "9f54a73b",
   "metadata": {},
   "outputs": [
    {
     "data": {
      "text/html": [
       "<div>\n",
       "<style scoped>\n",
       "    .dataframe tbody tr th:only-of-type {\n",
       "        vertical-align: middle;\n",
       "    }\n",
       "\n",
       "    .dataframe tbody tr th {\n",
       "        vertical-align: top;\n",
       "    }\n",
       "\n",
       "    .dataframe thead th {\n",
       "        text-align: right;\n",
       "    }\n",
       "</style>\n",
       "<table border=\"1\" class=\"dataframe\">\n",
       "  <thead>\n",
       "    <tr style=\"text-align: right;\">\n",
       "      <th></th>\n",
       "      <th>Product</th>\n",
       "      <th>Sub-product</th>\n",
       "      <th>Issue</th>\n",
       "      <th>Sub-issue</th>\n",
       "      <th>Consumer complaint narrative</th>\n",
       "      <th>Complaint length</th>\n",
       "      <th>category_id</th>\n",
       "    </tr>\n",
       "  </thead>\n",
       "  <tbody>\n",
       "    <tr>\n",
       "      <th>4006684</th>\n",
       "      <td>Credit reporting, credit repair services, or o...</td>\n",
       "      <td>Credit reporting</td>\n",
       "      <td>Incorrect information on your report</td>\n",
       "      <td>Information belongs to someone else</td>\n",
       "      <td>advised contact regarding items credit mine tr...</td>\n",
       "      <td>635</td>\n",
       "      <td>0</td>\n",
       "    </tr>\n",
       "    <tr>\n",
       "      <th>2194252</th>\n",
       "      <td>Debt collection</td>\n",
       "      <td>Credit card debt</td>\n",
       "      <td>Attempts to collect debt not owed</td>\n",
       "      <td>Debt was already discharged in bankruptcy and ...</td>\n",
       "      <td>midland funding inc reaged debit still fells s...</td>\n",
       "      <td>285</td>\n",
       "      <td>1</td>\n",
       "    </tr>\n",
       "    <tr>\n",
       "      <th>3732850</th>\n",
       "      <td>Checking or savings account</td>\n",
       "      <td>Checking account</td>\n",
       "      <td>Problem with a lender or other company chargin...</td>\n",
       "      <td>Money was taken from your account on the wrong...</td>\n",
       "      <td>encountered account xx xx xx xx sells designer...</td>\n",
       "      <td>930</td>\n",
       "      <td>2</td>\n",
       "    </tr>\n",
       "    <tr>\n",
       "      <th>2860305</th>\n",
       "      <td>Credit reporting, credit repair services, or o...</td>\n",
       "      <td>Credit reporting</td>\n",
       "      <td>Improper use of your report</td>\n",
       "      <td>Credit inquiries on your report that you don't...</td>\n",
       "      <td>unfortunately victim identity theft xx total u...</td>\n",
       "      <td>760</td>\n",
       "      <td>0</td>\n",
       "    </tr>\n",
       "    <tr>\n",
       "      <th>3610296</th>\n",
       "      <td>Vehicle loan or lease</td>\n",
       "      <td>Loan</td>\n",
       "      <td>Managing the loan or lease</td>\n",
       "      <td>Billing problem</td>\n",
       "      <td>car loan huntington bank filled paper work hun...</td>\n",
       "      <td>2012</td>\n",
       "      <td>3</td>\n",
       "    </tr>\n",
       "  </tbody>\n",
       "</table>\n",
       "</div>"
      ],
      "text/plain": [
       "                                                   Product       Sub-product  \\\n",
       "4006684  Credit reporting, credit repair services, or o...  Credit reporting   \n",
       "2194252                                    Debt collection  Credit card debt   \n",
       "3732850                        Checking or savings account  Checking account   \n",
       "2860305  Credit reporting, credit repair services, or o...  Credit reporting   \n",
       "3610296                              Vehicle loan or lease              Loan   \n",
       "\n",
       "                                                     Issue  \\\n",
       "4006684               Incorrect information on your report   \n",
       "2194252                  Attempts to collect debt not owed   \n",
       "3732850  Problem with a lender or other company chargin...   \n",
       "2860305                        Improper use of your report   \n",
       "3610296                         Managing the loan or lease   \n",
       "\n",
       "                                                 Sub-issue  \\\n",
       "4006684                Information belongs to someone else   \n",
       "2194252  Debt was already discharged in bankruptcy and ...   \n",
       "3732850  Money was taken from your account on the wrong...   \n",
       "2860305  Credit inquiries on your report that you don't...   \n",
       "3610296                                    Billing problem   \n",
       "\n",
       "                              Consumer complaint narrative  Complaint length  \\\n",
       "4006684  advised contact regarding items credit mine tr...               635   \n",
       "2194252  midland funding inc reaged debit still fells s...               285   \n",
       "3732850  encountered account xx xx xx xx sells designer...               930   \n",
       "2860305  unfortunately victim identity theft xx total u...               760   \n",
       "3610296  car loan huntington bank filled paper work hun...              2012   \n",
       "\n",
       "         category_id  \n",
       "4006684            0  \n",
       "2194252            1  \n",
       "3732850            2  \n",
       "2860305            0  \n",
       "3610296            3  "
      ]
     },
     "execution_count": 29,
     "metadata": {},
     "output_type": "execute_result"
    }
   ],
   "source": [
    "category_to_id = dict(category_id_df.values)\n",
    "id_to_category = dict(category_id_df[['category_id', 'Product']].values)\n",
    "\n",
    "# New dataframe\n",
    "df2.head()"
   ]
  },
  {
   "cell_type": "code",
   "execution_count": 30,
   "id": "bfe4bfa0",
   "metadata": {},
   "outputs": [],
   "source": [
    "from sklearn.feature_extraction.text import TfidfTransformer\n",
    "from sklearn.naive_bayes import MultinomialNB\n",
    "from sklearn.linear_model import LogisticRegression\n",
    "from sklearn.ensemble import RandomForestClassifier\n",
    "from sklearn.svm import LinearSVC\n",
    "from sklearn.model_selection import cross_val_score\n",
    "from sklearn.metrics import confusion_matrix\n",
    "from sklearn import metrics\n",
    "from sklearn.feature_extraction.text import TfidfVectorizer"
   ]
  },
  {
   "cell_type": "code",
   "execution_count": 32,
   "id": "b7c59afe",
   "metadata": {},
   "outputs": [],
   "source": [
    "tfidf = TfidfVectorizer(sublinear_tf=True, min_df=5,\n",
    "                        ngram_range=(1, 2), \n",
    "                        stop_words='english')\n",
    "\n",
    "features = tfidf.fit_transform(df2['Consumer complaint narrative']).toarray()\n",
    "\n",
    "labels = df2.category_id"
   ]
  },
  {
   "cell_type": "code",
   "execution_count": 34,
   "id": "559c7d9a",
   "metadata": {},
   "outputs": [],
   "source": [
    "from sklearn.feature_selection import chi2"
   ]
  },
  {
   "cell_type": "code",
   "execution_count": 35,
   "id": "4219511e",
   "metadata": {},
   "outputs": [
    {
     "name": "stdout",
     "output_type": "stream",
     "text": [
      "\n",
      "==> Checking or savings account:\n",
      "  * Most Correlated Unigrams are: branch, funds, bank\n",
      "  * Most Correlated Bigrams are: debit card, wells fargo, checking account\n",
      "\n",
      "==> Credit card:\n",
      "  * Most Correlated Unigrams are: mom, airport, proves\n",
      "  * Most Correlated Bigrams are: york xx, lost card, xx causing\n",
      "\n",
      "==> Credit card or prepaid card:\n",
      "  * Most Correlated Unigrams are: rewards, citi, card\n",
      "  * Most Correlated Bigrams are: card xx, american express, credit card\n",
      "\n",
      "==> Credit reporting or other personal consumer reports:\n",
      "  * Most Correlated Unigrams are: holders, sharing, liens\n",
      "  * Most Correlated Bigrams are: dollars month, late month, reported data\n",
      "\n",
      "==> Credit reporting, credit repair services, or other personal consumer reports:\n",
      "  * Most Correlated Unigrams are: bank, debt, section\n",
      "  * Most Correlated Bigrams are: reporting agency, section states, usc section\n",
      "\n",
      "==> Debt collection:\n",
      "  * Most Correlated Unigrams are: collect, collection, debt\n",
      "  * Most Correlated Bigrams are: trying collect, debt collector, collect debt\n",
      "\n",
      "==> Mortgage:\n",
      "  * Most Correlated Unigrams are: mortgage, shellpoint, ex\n",
      "  * Most Correlated Bigrams are: equity loan, ex husband, mortgage paid\n",
      "\n",
      "==> Payday loan, title loan, or personal loan:\n",
      "  * Most Correlated Unigrams are: doors, accommodation, extensions\n",
      "  * Most Correlated Bigrams are: apply loan, inquiry applied, signed account\n",
      "\n",
      "==> Student loan:\n",
      "  * Most Correlated Unigrams are: student, loans, navient\n",
      "  * Most Correlated Bigrams are: student loan, student loans, loan forgiveness\n",
      "\n",
      "==> Vehicle loan or lease:\n",
      "  * Most Correlated Unigrams are: dealership, car, vehicle\n",
      "  * Most Correlated Bigrams are: vehicle xx, auto loan, gm financial\n"
     ]
    }
   ],
   "source": [
    "N = 3\n",
    "for Product, category_id in sorted(category_to_id.items()):\n",
    "  features_chi2 = chi2(features, labels == category_id)\n",
    "  indices = np.argsort(features_chi2[0])\n",
    "  feature_names = np.array(tfidf.get_feature_names())[indices]\n",
    "  unigrams = [v for v in feature_names if len(v.split(' ')) == 1]\n",
    "  bigrams = [v for v in feature_names if len(v.split(' ')) == 2]\n",
    "  print(\"\\n==> %s:\" %(Product))\n",
    "  print(\"  * Most Correlated Unigrams are: %s\" %(', '.join(unigrams[-N:])))\n",
    "  print(\"  * Most Correlated Bigrams are: %s\" %(', '.join(bigrams[-N:])))"
   ]
  },
  {
   "cell_type": "code",
   "execution_count": 36,
   "id": "a16f78a0",
   "metadata": {},
   "outputs": [],
   "source": [
    "X = df2['Consumer complaint narrative'] \n",
    "y = df2['Product']\n",
    "X_train, X_test, y_train, y_test = train_test_split(X, y, \n",
    "                                                    test_size=0.2,\n",
    "                                                    random_state = 0)"
   ]
  },
  {
   "cell_type": "code",
   "execution_count": 37,
   "id": "78d9899e",
   "metadata": {},
   "outputs": [],
   "source": [
    "models = [\n",
    "    RandomForestClassifier(n_estimators=100, max_depth=5, random_state=0),\n",
    "    LinearSVC(),\n",
    "    MultinomialNB(),\n",
    "    LogisticRegression(random_state=0),\n",
    "]"
   ]
  },
  {
   "cell_type": "code",
   "execution_count": 38,
   "id": "a0d34d29",
   "metadata": {},
   "outputs": [
    {
     "name": "stderr",
     "output_type": "stream",
     "text": [
      "C:\\Users\\Anuj\\anaconda3\\lib\\site-packages\\sklearn\\model_selection\\_split.py:666: UserWarning: The least populated class in y has only 1 members, which is less than n_splits=5.\n",
      "  warnings.warn((\"The least populated class in y has only %d\"\n",
      "C:\\Users\\Anuj\\anaconda3\\lib\\site-packages\\sklearn\\model_selection\\_split.py:666: UserWarning: The least populated class in y has only 1 members, which is less than n_splits=5.\n",
      "  warnings.warn((\"The least populated class in y has only %d\"\n",
      "C:\\Users\\Anuj\\anaconda3\\lib\\site-packages\\sklearn\\model_selection\\_split.py:666: UserWarning: The least populated class in y has only 1 members, which is less than n_splits=5.\n",
      "  warnings.warn((\"The least populated class in y has only %d\"\n",
      "C:\\Users\\Anuj\\anaconda3\\lib\\site-packages\\sklearn\\model_selection\\_split.py:666: UserWarning: The least populated class in y has only 1 members, which is less than n_splits=5.\n",
      "  warnings.warn((\"The least populated class in y has only %d\"\n",
      "C:\\Users\\Anuj\\anaconda3\\lib\\site-packages\\sklearn\\linear_model\\_logistic.py:763: ConvergenceWarning: lbfgs failed to converge (status=1):\n",
      "STOP: TOTAL NO. of ITERATIONS REACHED LIMIT.\n",
      "\n",
      "Increase the number of iterations (max_iter) or scale the data as shown in:\n",
      "    https://scikit-learn.org/stable/modules/preprocessing.html\n",
      "Please also refer to the documentation for alternative solver options:\n",
      "    https://scikit-learn.org/stable/modules/linear_model.html#logistic-regression\n",
      "  n_iter_i = _check_optimize_result(\n",
      "C:\\Users\\Anuj\\anaconda3\\lib\\site-packages\\sklearn\\linear_model\\_logistic.py:763: ConvergenceWarning: lbfgs failed to converge (status=1):\n",
      "STOP: TOTAL NO. of ITERATIONS REACHED LIMIT.\n",
      "\n",
      "Increase the number of iterations (max_iter) or scale the data as shown in:\n",
      "    https://scikit-learn.org/stable/modules/preprocessing.html\n",
      "Please also refer to the documentation for alternative solver options:\n",
      "    https://scikit-learn.org/stable/modules/linear_model.html#logistic-regression\n",
      "  n_iter_i = _check_optimize_result(\n",
      "C:\\Users\\Anuj\\anaconda3\\lib\\site-packages\\sklearn\\linear_model\\_logistic.py:763: ConvergenceWarning: lbfgs failed to converge (status=1):\n",
      "STOP: TOTAL NO. of ITERATIONS REACHED LIMIT.\n",
      "\n",
      "Increase the number of iterations (max_iter) or scale the data as shown in:\n",
      "    https://scikit-learn.org/stable/modules/preprocessing.html\n",
      "Please also refer to the documentation for alternative solver options:\n",
      "    https://scikit-learn.org/stable/modules/linear_model.html#logistic-regression\n",
      "  n_iter_i = _check_optimize_result(\n",
      "C:\\Users\\Anuj\\anaconda3\\lib\\site-packages\\sklearn\\linear_model\\_logistic.py:763: ConvergenceWarning: lbfgs failed to converge (status=1):\n",
      "STOP: TOTAL NO. of ITERATIONS REACHED LIMIT.\n",
      "\n",
      "Increase the number of iterations (max_iter) or scale the data as shown in:\n",
      "    https://scikit-learn.org/stable/modules/preprocessing.html\n",
      "Please also refer to the documentation for alternative solver options:\n",
      "    https://scikit-learn.org/stable/modules/linear_model.html#logistic-regression\n",
      "  n_iter_i = _check_optimize_result(\n",
      "C:\\Users\\Anuj\\anaconda3\\lib\\site-packages\\sklearn\\linear_model\\_logistic.py:763: ConvergenceWarning: lbfgs failed to converge (status=1):\n",
      "STOP: TOTAL NO. of ITERATIONS REACHED LIMIT.\n",
      "\n",
      "Increase the number of iterations (max_iter) or scale the data as shown in:\n",
      "    https://scikit-learn.org/stable/modules/preprocessing.html\n",
      "Please also refer to the documentation for alternative solver options:\n",
      "    https://scikit-learn.org/stable/modules/linear_model.html#logistic-regression\n",
      "  n_iter_i = _check_optimize_result(\n"
     ]
    }
   ],
   "source": [
    "CV = 5\n",
    "cv_df = pd.DataFrame(index=range(CV * len(models)))\n",
    "\n",
    "entries = []\n",
    "for model in models:\n",
    "  model_name = model.__class__.__name__\n",
    "  accuracies = cross_val_score(model, features, labels, scoring='accuracy', cv=CV)\n",
    "  for fold_idx, accuracy in enumerate(accuracies):\n",
    "    entries.append((model_name, fold_idx, accuracy))"
   ]
  },
  {
   "cell_type": "code",
   "execution_count": 39,
   "id": "58c72bad",
   "metadata": {},
   "outputs": [],
   "source": [
    "cv_df = pd.DataFrame(entries, columns=['model_name', 'fold_idx', 'accuracy'])"
   ]
  },
  {
   "cell_type": "code",
   "execution_count": 40,
   "id": "461bd225",
   "metadata": {},
   "outputs": [],
   "source": [
    "mean = cv_df.groupby('model_name').accuracy.mean()\n",
    "standard = cv_df.groupby('model_name').accuracy.std()\n",
    "\n",
    "accuracy = pd.concat([mean, standard], axis= 1, \n",
    "          ignore_index=True)\n",
    "accuracy.columns = ['Mean Accuracy', 'Standard deviation']"
   ]
  },
  {
   "cell_type": "code",
   "execution_count": 41,
   "id": "9b5f0afc",
   "metadata": {},
   "outputs": [
    {
     "data": {
      "text/html": [
       "<div>\n",
       "<style scoped>\n",
       "    .dataframe tbody tr th:only-of-type {\n",
       "        vertical-align: middle;\n",
       "    }\n",
       "\n",
       "    .dataframe tbody tr th {\n",
       "        vertical-align: top;\n",
       "    }\n",
       "\n",
       "    .dataframe thead th {\n",
       "        text-align: right;\n",
       "    }\n",
       "</style>\n",
       "<table border=\"1\" class=\"dataframe\">\n",
       "  <thead>\n",
       "    <tr style=\"text-align: right;\">\n",
       "      <th></th>\n",
       "      <th>Mean Accuracy</th>\n",
       "      <th>Standard deviation</th>\n",
       "    </tr>\n",
       "    <tr>\n",
       "      <th>model_name</th>\n",
       "      <th></th>\n",
       "      <th></th>\n",
       "    </tr>\n",
       "  </thead>\n",
       "  <tbody>\n",
       "    <tr>\n",
       "      <th>LinearSVC</th>\n",
       "      <td>0.8618</td>\n",
       "      <td>0.005707</td>\n",
       "    </tr>\n",
       "    <tr>\n",
       "      <th>LogisticRegression</th>\n",
       "      <td>0.8537</td>\n",
       "      <td>0.007488</td>\n",
       "    </tr>\n",
       "    <tr>\n",
       "      <th>MultinomialNB</th>\n",
       "      <td>0.7757</td>\n",
       "      <td>0.007319</td>\n",
       "    </tr>\n",
       "    <tr>\n",
       "      <th>RandomForestClassifier</th>\n",
       "      <td>0.6120</td>\n",
       "      <td>0.000000</td>\n",
       "    </tr>\n",
       "  </tbody>\n",
       "</table>\n",
       "</div>"
      ],
      "text/plain": [
       "                        Mean Accuracy  Standard deviation\n",
       "model_name                                               \n",
       "LinearSVC                      0.8618            0.005707\n",
       "LogisticRegression             0.8537            0.007488\n",
       "MultinomialNB                  0.7757            0.007319\n",
       "RandomForestClassifier         0.6120            0.000000"
      ]
     },
     "execution_count": 41,
     "metadata": {},
     "output_type": "execute_result"
    }
   ],
   "source": [
    "accuracy"
   ]
  },
  {
   "cell_type": "markdown",
   "id": "be039d98",
   "metadata": {},
   "source": [
    "# Model Evaluation"
   ]
  },
  {
   "cell_type": "code",
   "execution_count": 42,
   "id": "c0576bac",
   "metadata": {},
   "outputs": [],
   "source": [
    "X_train, X_test, y_train, y_test,indices_train,indices_test = train_test_split(features, labels, df2.index, test_size=0.25, \n",
    "                                                               random_state=1)\n",
    "model = LinearSVC()\n",
    "model.fit(X_train, y_train)\n",
    "y_pred = model.predict(X_test)"
   ]
  },
  {
   "cell_type": "code",
   "execution_count": 47,
   "id": "3696a5dd",
   "metadata": {},
   "outputs": [
    {
     "name": "stdout",
     "output_type": "stream",
     "text": [
      "[0 0 0 ... 1 1 0]\n"
     ]
    }
   ],
   "source": [
    "print(y_pred)"
   ]
  },
  {
   "cell_type": "markdown",
   "id": "86e6af65",
   "metadata": {},
   "source": [
    "# Prediction"
   ]
  },
  {
   "cell_type": "code",
   "execution_count": 48,
   "id": "f5bfc9d7",
   "metadata": {},
   "outputs": [],
   "source": [
    "X_train, X_test, y_train, y_test = train_test_split(X, y, test_size=0.2,random_state = 0)\n",
    "\n",
    "tfidf = TfidfVectorizer(sublinear_tf=True, min_df=5,ngram_range=(1, 2), stop_words='english')\n",
    "\n",
    "fitted_vectorizer = tfidf.fit(X_train)\n",
    "tfidf_vectorizer_vectors = fitted_vectorizer.transform(X_train)\n",
    "\n",
    "model = LinearSVC().fit(tfidf_vectorizer_vectors, y_train)"
   ]
  },
  {
   "cell_type": "code",
   "execution_count": 49,
   "id": "c4f5b112",
   "metadata": {},
   "outputs": [
    {
     "name": "stdout",
     "output_type": "stream",
     "text": [
      "['Student loan']\n"
     ]
    }
   ],
   "source": [
    "new_complaint = \"\"\"I have been enrolled back at XXXX XXXX University in the XX/XX/XXXX. Recently, i have been harassed by \\\n",
    "Navient for the last month. I have faxed in paperwork providing them with everything they needed. And yet I am still getting \\\n",
    "phone calls for payments. Furthermore, Navient is now reporting to the credit bureaus that I am late. At this point, \\\n",
    "Navient needs to get their act together to avoid me taking further action. I have been enrolled the entire time and my \\\n",
    "deferment should be valid with my planned graduation date being the XX/XX/XXXX.\"\"\"\n",
    "print(model.predict(fitted_vectorizer.transform([new_complaint])))"
   ]
  },
  {
   "cell_type": "code",
   "execution_count": 52,
   "id": "08024956",
   "metadata": {},
   "outputs": [
    {
     "data": {
      "text/html": [
       "<div>\n",
       "<style scoped>\n",
       "    .dataframe tbody tr th:only-of-type {\n",
       "        vertical-align: middle;\n",
       "    }\n",
       "\n",
       "    .dataframe tbody tr th {\n",
       "        vertical-align: top;\n",
       "    }\n",
       "\n",
       "    .dataframe thead th {\n",
       "        text-align: right;\n",
       "    }\n",
       "</style>\n",
       "<table border=\"1\" class=\"dataframe\">\n",
       "  <thead>\n",
       "    <tr style=\"text-align: right;\">\n",
       "      <th></th>\n",
       "      <th>Product</th>\n",
       "      <th>Sub-product</th>\n",
       "      <th>Issue</th>\n",
       "      <th>Sub-issue</th>\n",
       "      <th>Consumer complaint narrative</th>\n",
       "      <th>Complaint length</th>\n",
       "      <th>category_id</th>\n",
       "    </tr>\n",
       "  </thead>\n",
       "  <tbody>\n",
       "  </tbody>\n",
       "</table>\n",
       "</div>"
      ],
      "text/plain": [
       "Empty DataFrame\n",
       "Columns: [Product, Sub-product, Issue, Sub-issue, Consumer complaint narrative, Complaint length, category_id]\n",
       "Index: []"
      ]
     },
     "execution_count": 52,
     "metadata": {},
     "output_type": "execute_result"
    }
   ],
   "source": [
    "df2[df2['Consumer complaint narrative'] == new_complaint]"
   ]
  },
  {
   "cell_type": "code",
   "execution_count": 53,
   "id": "b133cc7a",
   "metadata": {},
   "outputs": [
    {
     "name": "stdout",
     "output_type": "stream",
     "text": [
      "['Credit reporting, credit repair services, or other personal consumer reports']\n"
     ]
    }
   ],
   "source": [
    "new_complaint_2 = \"\"\"Equifax exposed my personal information without my consent, as part of their recent data breach. \\\n",
    "In addition, they dragged their feet in the announcement of the report, and even allowed their upper management to sell \\\n",
    "off stock before the announcement.\"\"\"\n",
    "print(model.predict(fitted_vectorizer.transform([new_complaint_2])))"
   ]
  },
  {
   "cell_type": "code",
   "execution_count": 54,
   "id": "0054cfad",
   "metadata": {},
   "outputs": [
    {
     "data": {
      "text/html": [
       "<div>\n",
       "<style scoped>\n",
       "    .dataframe tbody tr th:only-of-type {\n",
       "        vertical-align: middle;\n",
       "    }\n",
       "\n",
       "    .dataframe tbody tr th {\n",
       "        vertical-align: top;\n",
       "    }\n",
       "\n",
       "    .dataframe thead th {\n",
       "        text-align: right;\n",
       "    }\n",
       "</style>\n",
       "<table border=\"1\" class=\"dataframe\">\n",
       "  <thead>\n",
       "    <tr style=\"text-align: right;\">\n",
       "      <th></th>\n",
       "      <th>Product</th>\n",
       "      <th>Sub-product</th>\n",
       "      <th>Issue</th>\n",
       "      <th>Sub-issue</th>\n",
       "      <th>Consumer complaint narrative</th>\n",
       "      <th>Complaint length</th>\n",
       "      <th>category_id</th>\n",
       "    </tr>\n",
       "  </thead>\n",
       "  <tbody>\n",
       "  </tbody>\n",
       "</table>\n",
       "</div>"
      ],
      "text/plain": [
       "Empty DataFrame\n",
       "Columns: [Product, Sub-product, Issue, Sub-issue, Consumer complaint narrative, Complaint length, category_id]\n",
       "Index: []"
      ]
     },
     "execution_count": 54,
     "metadata": {},
     "output_type": "execute_result"
    }
   ],
   "source": [
    "df2[df2['Consumer complaint narrative'] == new_complaint_2]"
   ]
  },
  {
   "cell_type": "code",
   "execution_count": null,
   "id": "51b04b45",
   "metadata": {},
   "outputs": [],
   "source": []
  }
 ],
 "metadata": {
  "kernelspec": {
   "display_name": "Python 3",
   "language": "python",
   "name": "python3"
  },
  "language_info": {
   "codemirror_mode": {
    "name": "ipython",
    "version": 3
   },
   "file_extension": ".py",
   "mimetype": "text/x-python",
   "name": "python",
   "nbconvert_exporter": "python",
   "pygments_lexer": "ipython3",
   "version": "3.8.8"
  }
 },
 "nbformat": 4,
 "nbformat_minor": 5
}
